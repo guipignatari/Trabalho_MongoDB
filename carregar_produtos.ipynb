{
 "cells": [
  {
   "cell_type": "code",
   "execution_count": null,
   "metadata": {},
   "outputs": [],
   "source": [
    "## Importa as bibliotecas\n",
    "\n",
    "import random\n",
    "import string\n",
    "from pymongo import MongoClient"
   ]
  },
  {
   "cell_type": "code",
   "execution_count": null,
   "metadata": {},
   "outputs": [],
   "source": [
    "## Função para gerar um ID aleatório\n",
    "\n",
    "def generate_id(prefix, length=6):\n",
    "    return prefix + ''.join(random.choices(string.ascii_lowercase + string.digits, k=length))"
   ]
  },
  {
   "cell_type": "code",
   "execution_count": null,
   "metadata": {},
   "outputs": [],
   "source": [
    "## Função para gerar um produto aleatório\n",
    "def generate_product():\n",
    "    product_names = product_names = [\n",
    "    \"Arroz Integral\", \"Feijão Preto\", \"Macarrão\", \"Azeite\", \"Farinha\",\n",
    "    \"Açúcar\", \"Café\", \"Leite\", \"Pão\", \"Manteiga\", \"Queijo\", \"Presunto\",\n",
    "    \"Frango\", \"Carne Moída\", \"Peixe\", \"Cenoura\", \"Batata\", \"Tomate\",\n",
    "    \"Alface\", \"Maçã\", \"Banana\", \"Laranja\", \"Uva\", \"Morango\", \"Melancia\",\n",
    "    \"Mamão\", \"Abacaxi\", \"Iogurte\", \"Requeijão\", \"Margarina\", \"Biscoito\",\n",
    "    \"Cereal\", \"Granola\", \"Aveia\", \"Mel\", \"Geléia\", \"Suco de Laranja\",\n",
    "    \"Refrigerante\", \"Água Mineral\", \"Vinho\", \"Cerveja\", \"Whisky\", \"Vodka\",\n",
    "    \"Gin\", \"Rum\", \"Tequila\", \"Licor\", \"Champagne\", \"Salsicha\", \"Linguiça\",\n",
    "    \"Bacon\", \"Salmão\", \"Camarão\", \"Atum\", \"Sardinha\", \"Ovos\", \"Amendoim\",\n",
    "    \"Castanha\", \"Nozes\", \"Amêndoa\", \"Pistache\", \"Torrada\", \"Maionese\",\n",
    "    \"Ketchup\", \"Mostarda\", \"Molho de Soja\", \"Vinagre\", \"Sal\", \"Pimenta\",\n",
    "    \"Orégano\", \"Manjericão\", \"Salsa\", \"Coentro\", \"Louro\", \"Alho\", \"Cebola\",\n",
    "    \"Pepino\", \"Pimentão\", \"Abobrinha\", \"Berinjela\", \"Brócolis\", \"Couve-flor\",\n",
    "    \"Espinafre\", \"Rúcula\", \"Chá Verde\", \"Chá Preto\", \"Chá de Camomila\",\n",
    "    \"Chá de Hortelã\", \"Bebida de Soja\", \"Leite de Amêndoa\", \"Leite de Coco\",\n",
    "    \"Leite de Aveia\", \"Iogurte Grego\", \"Queijo Cottage\", \"Ricota\",\n",
    "    \"Creme de Leite\", \"Leite Condensado\", \"Doce de Leite\", \"Chocolate\",\n",
    "    \"Sorvete\"\n",
    "]\n",
    "    descriptions = descriptions = [\n",
    "    \"Pacote de 1kg\", \"Pacote de 500g\", \"Garrafa de 1L\", \"Pacote de 250g\",\n",
    "    \"Lata de 350ml\", \"Lata de 500ml\", \"Caixa com 12 unidades\", \"Caixa com 6 unidades\",\n",
    "    \"Frasco de 200ml\", \"Frasco de 500ml\", \"Saco de 2kg\", \"Saco de 5kg\",\n",
    "    \"Embalagem de 300g\", \"Embalagem de 400g\", \"Embalagem de 600g\", \"Embalagem de 800g\",\n",
    "    \"Garrafão de 5L\", \"Pote de 1kg\", \"Pote de 500g\", \"Pote de 200g\",\n",
    "    \"Barra de 100g\", \"Barra de 200g\", \"Caixa de 1L\", \"Caixa de 2L\",\n",
    "    \"Saco de 250g\", \"Saco de 1kg\", \"Saco de 500g\", \"Vidro de 300ml\",\n",
    "    \"Vidro de 700ml\", \"Vidro de 1L\", \"Garrafa de 750ml\", \"Garrafa de 2L\",\n",
    "    \"Garrafa de 330ml\", \"Pacote de 100g\", \"Pacote de 50g\", \"Embalagem de 1kg\",\n",
    "    \"Pacote de 5kg\", \"Caixa com 4 unidades\", \"Caixa com 8 unidades\", \"Caixa com 10 unidades\",\n",
    "    \"Lata de 1kg\", \"Lata de 2kg\", \"Lata de 300g\", \"Lata de 400g\",\n",
    "    \"Frasco de 100ml\", \"Frasco de 250ml\", \"Frasco de 750ml\", \"Vidro de 500ml\",\n",
    "    \"Embalagem de 100g\", \"Embalagem de 150g\", \"Embalagem de 250g\", \"Embalagem de 500g\",\n",
    "    \"Pacote de 1.5kg\", \"Pacote de 750g\", \"Garrafa de 3L\", \"Saco de 3kg\",\n",
    "    \"Saco de 4kg\", \"Barra de 300g\", \"Caixa com 20 unidades\", \"Caixa com 24 unidades\",\n",
    "    \"Caixa com 30 unidades\", \"Pote de 2kg\", \"Pote de 3kg\", \"Pote de 700g\",\n",
    "    \"Garrafa de 1.5L\", \"Garrafa de 600ml\", \"Vidro de 250ml\", \"Vidro de 200ml\",\n",
    "    \"Pacote de 2.5kg\", \"Pacote de 3kg\", \"Caixa com 18 unidades\", \"Caixa com 16 unidades\",\n",
    "    \"Lata de 600ml\", \"Lata de 750ml\", \"Embalagem de 50g\", \"Embalagem de 75g\",\n",
    "    \"Pacote de 400g\", \"Pacote de 150g\", \"Saco de 750g\", \"Saco de 600g\",\n",
    "    \"Frasco de 150ml\", \"Frasco de 100ml\", \"Barra de 150g\", \"Barra de 50g\",\n",
    "    \"Garrafa de 500ml\", \"Garrafa de 2.5L\", \"Vidro de 750ml\", \"Vidro de 1.5L\",\n",
    "    \"Caixa de 500g\", \"Caixa de 1.5kg\", \"Lata de 150g\", \"Lata de 500g\",\n",
    "    \"Embalagem de 2kg\", \"Embalagem de 4kg\", \"Pacote de 2kg\", \"Pacote de 5kg\"\n",
    "]\n",
    "    price = round(random.uniform(2.0, 20.0), 2)\n",
    "    product_name = random.choice(product_names)\n",
    "    description = random.choice(descriptions)\n",
    "    return {\n",
    "        \"product_id\": generate_id(\"prod\"),\n",
    "        \"name\": product_name,\n",
    "        \"description\": f\"{product_name} - {description}\",\n",
    "        \"price\": price\n",
    "    }\n"
   ]
  },
  {
   "cell_type": "code",
   "execution_count": null,
   "metadata": {},
   "outputs": [],
   "source": [
    "## Função para gerar uma loja aleatória\n",
    "def generate_store(product_list):\n",
    "    store_names = [\"Supermercado Central\", \"Mercado do Bairro\", \"Loja de Conveniência\", \"Hipermercado ABC\", \"Mini Mercado XYZ\"]\n",
    "    locations = [\"Cidade X\", \"Cidade Y\", \"Cidade Z\", \"Cidade W\", \"Cidade V\"]\n",
    "    inventory = [{\"product_id\": product[\"product_id\"], \"quantity\": random.randint(10, 200)} for product in random.sample(product_list, random.randint(1, 5))]\n",
    "    return {\n",
    "        \"store_id\": generate_id(\"store\"),\n",
    "        \"name\": random.choice(store_names),\n",
    "        \"location\": random.choice(locations),\n",
    "        \"inventory\": inventory\n",
    "    }"
   ]
  },
  {
   "cell_type": "code",
   "execution_count": null,
   "metadata": {},
   "outputs": [],
   "source": [
    "# Gerar uma lista de produtos\n",
    "product_list = [generate_product() for _ in range(10)]"
   ]
  },
  {
   "cell_type": "code",
   "execution_count": null,
   "metadata": {},
   "outputs": [],
   "source": [
    "# Gerar uma lista de lojas com produtos associados\n",
    "store_list = [generate_store(product_list) for _ in range(5)]"
   ]
  },
  {
   "cell_type": "code",
   "execution_count": null,
   "metadata": {},
   "outputs": [],
   "source": [
    "# Conectando ao servidor do MongoDB\n",
    "client = MongoClient('mongodb://localhost:27017/')"
   ]
  },
  {
   "cell_type": "code",
   "execution_count": null,
   "metadata": {},
   "outputs": [],
   "source": [
    "# Selecionando o banco de dados\n",
    "db = client.supermarket_inventory"
   ]
  },
  {
   "cell_type": "code",
   "execution_count": null,
   "metadata": {},
   "outputs": [],
   "source": [
    "# Selecionando as coleções\n",
    "stores_collection = db.stores\n",
    "products_collection = db.products"
   ]
  },
  {
   "cell_type": "code",
   "execution_count": null,
   "metadata": {},
   "outputs": [],
   "source": [
    "# Inserindo produtos no banco de dados\n",
    "for product in product_list:\n",
    "    products_collection.insert_one(product)"
   ]
  },
  {
   "cell_type": "code",
   "execution_count": null,
   "metadata": {},
   "outputs": [],
   "source": [
    "# Inserindo lojas no banco de dados\n",
    "for store in store_list:\n",
    "    stores_collection.insert_one(store)"
   ]
  },
  {
   "cell_type": "code",
   "execution_count": null,
   "metadata": {},
   "outputs": [],
   "source": [
    "# Consultando produtos em uma loja\n",
    "for item in stores_collection.find({\"store_id\": store_list[0]['store_id']}):\n",
    "    print(item)"
   ]
  },
  {
   "cell_type": "code",
   "execution_count": null,
   "metadata": {},
   "outputs": [],
   "source": [
    "# Atualizando o estoque de um produto em uma loja\n",
    "stores_collection.update_one(\n",
    "    {\"store_id\": store_list[0]['store_id'], \"inventory.product_id\": product_list[0]['product_id']},\n",
    "    {\"$set\": {\"inventory.$.quantity\": 140}}\n",
    ")\n",
    "\n",
    "print(\"\\nLista de produtos:\")\n",
    "for product in products_collection.find():\n",
    "    print(product)\n",
    "\n",
    "print(\"\\nLista de lojas:\")\n",
    "for store in stores_collection.find():\n",
    "    print(store)"
   ]
  }
 ],
 "metadata": {
  "language_info": {
   "name": "python"
  }
 },
 "nbformat": 4,
 "nbformat_minor": 2
}
